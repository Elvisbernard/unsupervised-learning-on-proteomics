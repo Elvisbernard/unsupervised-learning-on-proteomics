{
 "cells": [
  {
   "cell_type": "code",
   "execution_count": 1,
   "id": "f50dedc9",
   "metadata": {},
   "outputs": [],
   "source": [
    "import pandas as pd\n",
    "import time"
   ]
  },
  {
   "cell_type": "code",
   "execution_count": 2,
   "id": "84804a2c",
   "metadata": {},
   "outputs": [],
   "source": [
    "dfclust=pd.read_csv('clusterv2A.csv')\n",
    "data=pd.read_csv('E:\\\\Proteomic\\\\prot_1500.csv')\n",
    "dftot=data.merge(dfclust, on='eid')"
   ]
  },
  {
   "cell_type": "code",
   "execution_count": 3,
   "id": "7c5ad94a",
   "metadata": {},
   "outputs": [
    {
     "name": "stdout",
     "output_type": "stream",
     "text": [
      "c20182_1.0c39516_0.0 - 82 ;high: 17\n",
      "c20182_1.0 - 259 ;high: 14\n",
      "c20182_5.0c33522_7.0c20727_8.0 - 88 ;high: 190\n",
      "c33522_3.0 - 85 ;low: ['arhgef12', 'axin1', 'bach1', 'bank1', 'bcr', 'calcoco1', 'cd69', 'cnst', 'cracr2a', 'dnmbp', 'foxo1', 'hexim1', 'ikbkg', 'inppl1', 'irag2', 'irak1', 'map3k5', 'mavs', 'mpig6b', 'nfatc1', 'sestd1', 'sh2b3', 'tank', 'tbc1d5', 'tjap1', 'traf2', 'trim5', 'txlna', 'wwp2', 'yes1', 'zbtb16']\n",
      "c20182_2.0c22779_8.0c29426_3.0c30683_2.0c33522_6.0c37040_2.0c37847_1.0c43320_1.0c43948_1.0c44422_1.0clxn_1.0c20727_3.0c23533_6.0 - 139 ;high: 68\n",
      "c23533_3.0 - 81 ;low: ['abl1', 'arhgef12', 'axin1', 'bank1', 'bcr', 'calcoco1', 'casp2', 'casp3', 'cdc37', 'cdkn1a', 'cdkn2d', 'cep20', 'clip2', 'cnpy4', 'cradd', 'crkl', 'dab2', 'dbi', 'dbnl', 'dctn1', 'dnaja2', 'dok2', 'drg2', 'eif4g1', 'erbin', 'fadd', 'fkbp5', 'fli1', 'foxo1', 'gfer', 'gopc', 'grap2', 'hexim1', 'hgs', 'hpcal1', 'htra2', 'ica1', 'irak1', 'irak4', 'kifbp', 'lactb2', 'lat2', 'lyn', 'manf', 'med18', 'mesd', 'mitd1', 'mpi', 'nfatc1', 'nt5c3a', 'nub1', 'nudc', 'pdlim7', 'pla2g4a', 'ppib', 'ppp1r12a', 'ppp1r2', 'ptpn1', 'samd9l', 'scamp3', 'serpinb1', 'serpinb6', 'smad1', 'snap23', 'snap29', 'snx9', 'src', 'srpk2', 'stambp', 'stat5b', 'stk11', 'tacc3', 'tarbp2', 'tbc1d23', 'tbcb', 'tbcc', 'tia1', 'tjap1', 'txlna', 'usp8', 'vps53', 'wasf1']\n",
      "c20182_1.0c20727_1.0 - 87 ;high: 15\n",
      "c20727_10.0 - 160 ;high: 15\n",
      "2033.823354959488\n"
     ]
    }
   ],
   "source": [
    "start=time.time()\n",
    "dico={}\n",
    "for G in dftot.grouped.unique():\n",
    "    \n",
    "    if dftot[dftot.grouped==G].shape[0]>80:\n",
    "        dico[G]={}\n",
    "        dico[G]['count']=dftot[dftot.grouped==G].shape[0]\n",
    "        dico[G]['high']=[]\n",
    "        dico[G]['low']=[]\n",
    "        for var in dftot.columns[1:-28]:\n",
    "            popl=dftot[var].describe()[4]\n",
    "            poph=dftot[var].describe()[6]\n",
    "            varl=dftot[dftot.grouped==G][var].describe()[4]\n",
    "            varh=dftot[dftot.grouped==G][var].describe()[6]\n",
    "            if popl>varh:\n",
    "                dico[G]['low']+=[var]\n",
    "            elif poph<varl :\n",
    "                dico[G]['high']+=[var]\n",
    "\n",
    "for k in dico.keys():\n",
    "    if len(dico[k]['low'])>10:\n",
    "        print (str(k), '-', str(dico[k]['count']),';low:',str(dico[k]['low']))\n",
    "    if len(dico[k]['high'])>10:\n",
    "        print (str(k), '-', str(dico[k]['count']),';high:',str(len(dico[k]['high'])))\n",
    "end=time.time()\n",
    "print(end-start)"
   ]
  },
  {
   "cell_type": "code",
   "execution_count": 15,
   "id": "10e4abb7",
   "metadata": {},
   "outputs": [],
   "source": [
    "\n",
    "a=dfclust[dfclust['c20182']==2][['eid']].merge(dfclust[dfclust['c22779']==8][['eid']]).merge(\n",
    "    dfclust[dfclust['c29426']==3][['eid']]).merge(dfclust[dfclust['c30683']==2][['eid']]).merge(\n",
    "    dfclust[dfclust['c33522']==6][['eid']]).merge(dfclust[dfclust['c37040']==2][['eid']]).merge(\n",
    "    dfclust[dfclust['c37847']==1][['eid']]).merge(dfclust[dfclust['c43320']==1][['eid']]).merge(\n",
    "    dfclust[dfclust['c43948']==1][['eid']]).merge(dfclust[dfclust['c44422']==1][['eid']]).merge(\n",
    "    dfclust[dfclust['clxn']==1][['eid']]).merge(dfclust[dfclust['c20727']==3][['eid']]).merge(\n",
    "    dfclust[dfclust['c23533']==6][['eid']])\n",
    "a['cl1']=1\n",
    "b=dfclust[dfclust['ccxcl5']==5.0][['eid']]\n",
    "b['cl2']=1\n",
    "c=dfclust[dfclust['ccxcl5']==8.0][['eid']]\n",
    "c['cl3']=1\n",
    "dfclust=dfclust.merge(a, how='left').merge(b, how='left').merge(c, how='left')"
   ]
  },
  {
   "cell_type": "code",
   "execution_count": 9,
   "id": "6dddb9f3",
   "metadata": {},
   "outputs": [
    {
     "name": "stdout",
     "output_type": "stream",
     "text": [
      "c20182 :  3.0 : count  292 ; high  469 ; low  0\n",
      "c20182 :  5.0 : count  252 ; high  164 ; low  3\n",
      "c22779 :  1.0 : count  292 ; high  469 ; low  0\n",
      "c33522 :  2.0 : count  292 ; high  469 ; low  0\n",
      "c33522 :  3.0 : count  589 ; high  2 ; low  34\n",
      "c33522 :  7.0 : count  252 ; high  164 ; low  3\n",
      "ccxcl5 :  5.0 : count  110 ; high  487 ; low  0\n",
      "ccxcl5 :  8.0 : count  183 ; high  208 ; low  0\n",
      "c20727 :  8.0 : count  251 ; high  163 ; low  3\n",
      "c23533 :  3.0 : count  533 ; high  1 ; low  50\n",
      "c45554 :  2.0 : count  195 ; high  392 ; low  3\n",
      "824.3405404090881\n"
     ]
    }
   ],
   "source": [
    "start=time.time()\n",
    "colist=[x for x in dfclust.columns if x[0]=='c']\n",
    "dico3={}\n",
    "for col in colist:\n",
    "    dico3[col]={}\n",
    "    for val in dfclust[col].unique():\n",
    "        \n",
    "        dico3[col][val]={}\n",
    "        filt=[dfclust[col]==val]\n",
    "        subdf=dftot.merge(dfclust[dfclust[col]==val]['eid'])\n",
    "        dico3[col][val]['count']=subdf.shape[0]\n",
    "        dico3[col][val]['high']=[]\n",
    "        dico3[col][val]['low']=[]\n",
    "        for var in dftot.columns[1:-28]:\n",
    "            popl=dftot[var].describe()[4]\n",
    "            poph=dftot[var].describe()[6]\n",
    "            varl=subdf[var].describe()[4]\n",
    "            varh=subdf[var].describe()[6]\n",
    "            if popl>varh:\n",
    "                dico3[col][val]['low']+=[var]\n",
    "            elif poph<varl :\n",
    "                dico3[col][val]['high']+=[var]\n",
    "cl=[]\n",
    "co=[]\n",
    "h=[]\n",
    "l=[]\n",
    "for k in dico3.keys():\n",
    "    for c in dico3[k].keys():\n",
    "        if dico3[k][c]['count']>100:\n",
    "            if len(dico3[k][c]['high'])>100:\n",
    "                cl+=[str(k)+'_'+str(c)]\n",
    "                co+=[dico3[k][c]['count']]\n",
    "                h+=[len(dico3[k][c]['high'])]\n",
    "                l+=[len(dico3[k][c]['low'])]\n",
    "                print(k, ': ', c, ': count ', co[-1],\n",
    "                      '; high ', h[-1],\n",
    "                      '; low ', l[-1] )\n",
    "            elif len(dico3[k][c]['low'])>20:\n",
    "                cl+=[str(k)+'_'+str(c)]\n",
    "                co+=[dico3[k][c]['count']]\n",
    "                h+=[len(dico3[k][c]['high'])]\n",
    "                l+=[len(dico3[k][c]['low'])]\n",
    "                print(k, ': ', c, ': count ', co[-1],\n",
    "                      '; high ', h[-1],\n",
    "                      '; low ', l[-1] )\n",
    "end=time.time()\n",
    "print(end-start)"
   ]
  },
  {
   "cell_type": "code",
   "execution_count": 16,
   "id": "6c7b605e",
   "metadata": {},
   "outputs": [],
   "source": [
    "\n",
    "\n",
    "a=dfclust[dfclust['c20182']==5.0][['eid']]\n",
    "a['cl4']=1\n",
    "\n",
    "b=dfclust[dfclust['c22779']==1.0][['eid']]\n",
    "b['cl5']=1\n",
    "c=dfclust[dfclust['c33522']==3.0][['eid']]\n",
    "c['cl6']=1\n",
    "d=dfclust[dfclust['c23533']==3.0][['eid']]\n",
    "d['cl7']=1\n",
    "e=dfclust[dfclust['c45554']==2.0][['eid']]\n",
    "e['cl8']=1"
   ]
  },
  {
   "cell_type": "code",
   "execution_count": 17,
   "id": "5231aa4e",
   "metadata": {},
   "outputs": [],
   "source": [
    "dfclust=dfclust.merge(a, how='left').merge(b, how='left').merge(c, how='left').merge(d, how='left').merge(e, how='left')"
   ]
  },
  {
   "cell_type": "code",
   "execution_count": 18,
   "id": "31131d36",
   "metadata": {},
   "outputs": [],
   "source": [
    "dfclust.to_csv('clusterv2A.csv', index=False)"
   ]
  }
 ],
 "metadata": {
  "kernelspec": {
   "display_name": "Python 3 (ipykernel)",
   "language": "python",
   "name": "python3"
  },
  "language_info": {
   "codemirror_mode": {
    "name": "ipython",
    "version": 3
   },
   "file_extension": ".py",
   "mimetype": "text/x-python",
   "name": "python",
   "nbconvert_exporter": "python",
   "pygments_lexer": "ipython3",
   "version": "3.10.15"
  }
 },
 "nbformat": 4,
 "nbformat_minor": 5
}
